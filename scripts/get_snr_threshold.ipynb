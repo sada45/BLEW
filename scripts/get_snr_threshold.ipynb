{
 "cells": [
  {
   "cell_type": "code",
   "execution_count": 1,
   "metadata": {},
   "outputs": [
    {
     "name": "stdout",
     "output_type": "stream",
     "text": [
      "[[ -7.62780671  -6.91893286  -6.83532395]\n",
      " [ -9.74678483  -8.12187111  -8.55678763]\n",
      " [-12.26829855 -10.56885792 -10.36307361]\n",
      " [-14.75230184 -12.71116061 -12.13596793]\n",
      " [-17.13014538 -14.58950612 -13.75936586]\n",
      " [-18.71286314 -16.39371709 -15.46287749]]\n",
      "[[  2.           2.67142857   0.17377049  -5.14054054]\n",
      " [  4.           1.17777778  -1.86428571  -5.69818182]\n",
      " [  8.          -2.48791209  -5.36271186  -9.77142857]\n",
      " [ 16.          -4.36481481  -8.22626263 -11.57108434]\n",
      " [ 32.          -6.4        -10.36166667 -13.70126582]\n",
      " [ 64.          -7.56901408 -11.44810127 -14.992     ]]\n"
     ]
    }
   ],
   "source": [
    "import numpy as np\n",
    "import matplotlib.pyplot as plt\n",
    "\n",
    "def get_snr_threshold(thres=0.1, f_name=\"white_noise_dnn_gain_2\", num=3):\n",
    "    extfs = [2, 4, 8, 16, 32, 64]\n",
    "    snr_thres = np.zeros([len(extfs), num])\n",
    "    snr_thres[:, :] = 100\n",
    "    all_extf_bers = []\n",
    "    for extf_idx in range(len(extfs)):\n",
    "        extf = extfs[extf_idx]\n",
    "        with open(\"/liymdata/liym/BLong/output/\" + f_name + \".log\", \"r\") as f:\n",
    "            lines = f.readlines()\n",
    "            snrs = []\n",
    "            bcrs = []\n",
    "            for line in lines:\n",
    "                s = line.split(\",\")\n",
    "                s_extf = int(s[0][s[0].find(\"=\")+1:])\n",
    "                if s_extf != extf:\n",
    "                    continue \n",
    "                snr = int(s[1][s[1].find(\"=\")+1:])\n",
    "                bcr = np.zeros(num, dtype=np.float32)\n",
    "                for i in range(num):\n",
    "                    bcr[i] = float(s[2+i][s[2+i].find(\"=\")+1:])\n",
    "                snrs.append(snr)\n",
    "                bcrs.append(bcr)\n",
    "            snrs = np.array(snrs)\n",
    "            bcrs = np.array(bcrs)\n",
    "            idx = np.argsort(snrs)\n",
    "            snrs = snrs[idx]\n",
    "            bcrs = 1 - bcrs[idx, :]\n",
    "            for i in range(len(snrs)-1):\n",
    "                for j in range(num):\n",
    "                    if snr_thres[extf_idx, j] == 100 and (bcrs[i, j] >= thres and bcrs[i+1, j] <= thres):\n",
    "                        diff = bcrs[i+1, j] - bcrs[i, j]\n",
    "                        slope = diff / (snrs[i+1] - snrs[i])\n",
    "                        snr_diff = (thres - bcrs[i, j]) / slope\n",
    "                        snr_thres[extf_idx, j] = snrs[i] + snr_diff\n",
    "        all_extf_bers.append([snrs, bcrs])\n",
    "    print(snr_thres)   \n",
    "    output_data = np.hstack([np.array(extfs).reshape([-1, 1]), snr_thres])\n",
    "    np.savetxt(\"/liymdata/liym/BLong/output/snr_threshold/ber_threshold.csv\", output_data, delimiter=\",\")\n",
    "    return snr_thres\n",
    "    \n",
    "\n",
    "def get_pdr_snr_threshold(thres=0.9, f_name=\"filter_packet_detection\"):\n",
    "    extfs = [2, 4, 8, 16, 32, 64]\n",
    "    snr_thres = np.zeros([len(extfs), 3])\n",
    "    for extfi in range(6):\n",
    "        extf = extfs[extfi]\n",
    "        data = np.loadtxt(\"/liymdata/liym/BLong/output/packet_detection/\" + f_name + \"_{}.csv\".format(extf), delimiter=\",\")\n",
    "        snrs = data[:, 1] \n",
    "        pdr = data[:, 5:]\n",
    "        for j in range(3):\n",
    "            for i in range(len(snrs)-1):\n",
    "                if pdr[i, j] < thres and pdr[i+1, j] > thres:\n",
    "                    snr_thres[extfi, j] = snrs[i] + (thres - pdr[i, j]) / (pdr[i+1, j] - pdr[i, j]) \n",
    "                    break\n",
    "    output_data = np.hstack([np.array(extfs).reshape([-1, 1]), snr_thres])\n",
    "    print(output_data)\n",
    "    np.savetxt(\"/liymdata/liym/BLong/output/snr_threshold/filter_preamble_detection_rate_threshold.csv\", output_data, delimiter=\",\")\n",
    "    return snr_thres\n",
    "    \n",
    "ber_t = get_snr_threshold()\n",
    "pdr_t = get_pdr_snr_threshold()"
   ]
  },
  {
   "cell_type": "code",
   "execution_count": 2,
   "metadata": {},
   "outputs": [
    {
     "name": "stdout",
     "output_type": "stream",
     "text": [
      "[2.21701129 1.89495685 1.72551071]\n",
      "0.3220544379361512 0.4915005778707504\n",
      "[2.04808853 2.32437435 1.97029189]\n"
     ]
    }
   ],
   "source": [
    "b = -ber_t[:, :]\n",
    "diff_b = b[1:, :] - b[:-1, :]\n",
    "print(np.mean(diff_b,axis=0))\n",
    "b = np.mean(diff_b,axis=0)\n",
    "print(b[0]-b[1], b[0]-b[2])\n",
    "\n",
    "p = -pdr_t[:, :]\n",
    "diff_p = p[1:, :] - p[:-1, :]\n",
    "print(np.mean(diff_p,axis=0))"
   ]
  }
 ],
 "metadata": {
  "kernelspec": {
   "display_name": "blong",
   "language": "python",
   "name": "python3"
  },
  "language_info": {
   "codemirror_mode": {
    "name": "ipython",
    "version": 3
   },
   "file_extension": ".py",
   "mimetype": "text/x-python",
   "name": "python",
   "nbconvert_exporter": "python",
   "pygments_lexer": "ipython3",
   "version": "3.11.0"
  }
 },
 "nbformat": 4,
 "nbformat_minor": 2
}
